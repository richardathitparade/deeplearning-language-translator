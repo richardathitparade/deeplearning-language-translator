{
 "cells": [
  {
   "cell_type": "markdown",
   "metadata": {
    "collapsed": true
   },
   "source": [
    "# Language Translation\n",
    "In this project, you’re going to take a peek into the realm of neural network machine translation.  You’ll be training a sequence to sequence model on a dataset of English and French sentences that can translate new sentences from English to French.\n",
    "## Get the Data\n",
    "Since translating the whole language of English to French will take lots of time to train, we have provided you with a small portion of the English corpus."
   ]
  },
  {
   "cell_type": "code",
   "execution_count": 1,
   "metadata": {
    "collapsed": true
   },
   "outputs": [],
   "source": [
    "# -*- coding: utf-8 -*-\n",
    "\"\"\"\n",
    "DON'T MODIFY ANYTHING IN THIS CELL\n",
    "\"\"\"\n",
    "import helper\n",
    "import problem_unittests as tests\n",
    "\n",
    "source_path = 'data/small_vocab_en'\n",
    "target_path = 'data/small_vocab_fr'\n",
    "source_text = helper.load_data(source_path)\n",
    "target_text = helper.load_data(target_path)"
   ]
  },
  {
   "cell_type": "markdown",
   "metadata": {},
   "source": [
    "## Explore the Data\n",
    "Play around with view_sentence_range to view different parts of the data."
   ]
  },
  {
   "cell_type": "code",
   "execution_count": 2,
   "metadata": {},
   "outputs": [
    {
     "name": "stdout",
     "output_type": "stream",
     "text": [
      "Dataset Stats\n",
      "Roughly the number of unique words: 227\n",
      "Number of sentences: 137861\n",
      "Average number of words in a sentence: 13.2252776347\n",
      "()\n",
      "English sentences 0 to 10:\n",
      "new jersey is sometimes quiet during autumn , and it is snowy in april .\n",
      "the united states is usually chilly during july , and it is usually freezing in november .\n",
      "california is usually quiet during march , and it is usually hot in june .\n",
      "the united states is sometimes mild during june , and it is cold in september .\n",
      "your least liked fruit is the grape , but my least liked is the apple .\n",
      "his favorite fruit is the orange , but my favorite is the grape .\n",
      "paris is relaxing during december , but it is usually chilly in july .\n",
      "new jersey is busy during spring , and it is never hot in march .\n",
      "our least liked fruit is the lemon , but my least liked is the grape .\n",
      "the united states is sometimes busy during january , and it is sometimes warm in november .\n",
      "()\n",
      "French sentences 0 to 10:\n",
      "new jersey est parfois calme pendant l' automne , et il est neigeux en avril .\n",
      "les états-unis est généralement froid en juillet , et il gèle habituellement en novembre .\n",
      "california est généralement calme en mars , et il est généralement chaud en juin .\n",
      "les états-unis est parfois légère en juin , et il fait froid en septembre .\n",
      "votre moins aimé fruit est le raisin , mais mon moins aimé est la pomme .\n",
      "son fruit préféré est l'orange , mais mon préféré est le raisin .\n",
      "paris est relaxant en décembre , mais il est généralement froid en juillet .\n",
      "new jersey est occupé au printemps , et il est jamais chaude en mars .\n",
      "notre fruit est moins aimé le citron , mais mon moins aimé est le raisin .\n",
      "les états-unis est parfois occupé en janvier , et il est parfois chaud en novembre .\n"
     ]
    }
   ],
   "source": [
    "view_sentence_range = (0, 10)\n",
    "\n",
    "\"\"\"\n",
    "DON'T MODIFY ANYTHING IN THIS CELL\n",
    "\"\"\"\n",
    "import numpy as np\n",
    "\n",
    "print('Dataset Stats')\n",
    "print('Roughly the number of unique words: {}'.format(len({word: None for word in source_text.split()})))\n",
    "\n",
    "sentences = source_text.split('\\n')\n",
    "word_counts = [len(sentence.split()) for sentence in sentences]\n",
    "print('Number of sentences: {}'.format(len(sentences)))\n",
    "print('Average number of words in a sentence: {}'.format(np.average(word_counts)))\n",
    "\n",
    "print()\n",
    "print('English sentences {} to {}:'.format(*view_sentence_range))\n",
    "print('\\n'.join(source_text.split('\\n')[view_sentence_range[0]:view_sentence_range[1]]))\n",
    "print()\n",
    "print('French sentences {} to {}:'.format(*view_sentence_range))\n",
    "print('\\n'.join(target_text.split('\\n')[view_sentence_range[0]:view_sentence_range[1]]))"
   ]
  },
  {
   "cell_type": "markdown",
   "metadata": {},
   "source": [
    "## Implement Preprocessing Function\n",
    "### Text to Word Ids\n",
    "As you did with other RNNs, you must turn the text into a number so the computer can understand it. In the function `text_to_ids()`, you'll turn `source_text` and `target_text` from words to ids.  However, you need to add the `<EOS>` word id at the end of `target_text`.  This will help the neural network predict when the sentence should end.\n",
    "\n",
    "You can get the `<EOS>` word id by doing:\n",
    "```python\n",
    "target_vocab_to_int['<EOS>']\n",
    "```\n",
    "You can get other word ids using `source_vocab_to_int` and `target_vocab_to_int`."
   ]
  },
  {
   "cell_type": "code",
   "execution_count": 3,
   "metadata": {},
   "outputs": [
    {
     "name": "stdout",
     "output_type": "stream",
     "text": [
      "Tests Passed\n"
     ]
    }
   ],
   "source": [
    "from collections import Counter\n",
    "import pprint\n",
    "def text_transform(text_,vocab_to_int, char_to_add=None):\n",
    "    text = text_\n",
    "    text = text.lower()\n",
    "    sentences = text.split('\\n')\n",
    "    int_text_agg = []\n",
    "    for sentence in sentences:\n",
    "        text = sentence.split()  \n",
    "        int_text = [vocab_to_int[word] for word in text]\n",
    "        if not char_to_add is None:\n",
    "            int_text.append(char_to_add)\n",
    "        int_text_agg.append(int_text) \n",
    "    return int_text_agg\n",
    "\n",
    "def text_to_ids(source_text, target_text, source_vocab_to_int, target_vocab_to_int):\n",
    "    \"\"\"\n",
    "    Convert source and target text to proper word ids\n",
    "    :param source_text: String that contains all the source text.\n",
    "    :param target_text: String that contains all the target text.\n",
    "    :param source_vocab_to_int: Dictionary to go from the source words to an id\n",
    "    :param target_vocab_to_int: Dictionary to go from the target words to an id\n",
    "    :return: A tuple of lists (source_id_text, target_id_text)\n",
    "    \"\"\"\n",
    "    source_text_ids =  text_transform(source_text,source_vocab_to_int, None)\n",
    "    target_text_ids =  text_transform(target_text,target_vocab_to_int, target_vocab_to_int['<EOS>'])\n",
    "    return (source_text_ids, target_text_ids)\n",
    "\n",
    "\"\"\"\n",
    "DON'T MODIFY ANYTHING IN THIS CELL THAT IS BELOW THIS LINE\n",
    "\"\"\"\n",
    "tests.test_text_to_ids(text_to_ids)"
   ]
  },
  {
   "cell_type": "markdown",
   "metadata": {},
   "source": [
    "### Preprocess all the data and save it\n",
    "Running the code cell below will preprocess all the data and save it to file."
   ]
  },
  {
   "cell_type": "code",
   "execution_count": 4,
   "metadata": {
    "collapsed": true
   },
   "outputs": [],
   "source": [
    "\"\"\"\n",
    "DON'T MODIFY ANYTHING IN THIS CELL\n",
    "\"\"\"\n",
    "helper.preprocess_and_save_data(source_path, target_path, text_to_ids)"
   ]
  },
  {
   "cell_type": "markdown",
   "metadata": {},
   "source": [
    "# Check Point\n",
    "This is your first checkpoint. If you ever decide to come back to this notebook or have to restart the notebook, you can start from here. The preprocessed data has been saved to disk."
   ]
  },
  {
   "cell_type": "code",
   "execution_count": 5,
   "metadata": {
    "collapsed": true
   },
   "outputs": [],
   "source": [
    "\"\"\"\n",
    "DON'T MODIFY ANYTHING IN THIS CELL\n",
    "\"\"\"\n",
    "import numpy as np\n",
    "import helper\n",
    "import problem_unittests as tests\n",
    "\n",
    "(source_int_text, target_int_text), (source_vocab_to_int, target_vocab_to_int), _ = helper.load_preprocess()"
   ]
  },
  {
   "cell_type": "markdown",
   "metadata": {},
   "source": [
    "### Check the Version of TensorFlow and Access to GPU\n",
    "This will check to make sure you have the correct version of TensorFlow and access to a GPU"
   ]
  },
  {
   "cell_type": "code",
   "execution_count": 6,
   "metadata": {},
   "outputs": [
    {
     "name": "stdout",
     "output_type": "stream",
     "text": [
      "TensorFlow Version: 1.3.0\n"
     ]
    },
    {
     "name": "stderr",
     "output_type": "stream",
     "text": [
      "/Users/richardferri/anaconda/lib/python2.7/site-packages/ipykernel_launcher.py:15: UserWarning: No GPU found. Please use a GPU to train your neural network.\n",
      "  from ipykernel import kernelapp as app\n"
     ]
    }
   ],
   "source": [
    "\"\"\"\n",
    "DON'T MODIFY ANYTHING IN THIS CELL\n",
    "\"\"\"\n",
    "from distutils.version import LooseVersion\n",
    "import warnings\n",
    "import tensorflow as tf\n",
    "from tensorflow.python.layers.core import Dense\n",
    "\n",
    "# Check TensorFlow Version\n",
    "assert LooseVersion(tf.__version__) >= LooseVersion('1.1'), 'Please use TensorFlow version 1.1 or newer'\n",
    "print('TensorFlow Version: {}'.format(tf.__version__))\n",
    "\n",
    "# Check for a GPU\n",
    "if not tf.test.gpu_device_name():\n",
    "    warnings.warn('No GPU found. Please use a GPU to train your neural network.')\n",
    "else:\n",
    "    print('Default GPU Device: {}'.format(tf.test.gpu_device_name()))"
   ]
  },
  {
   "cell_type": "markdown",
   "metadata": {},
   "source": [
    "## Build the Neural Network\n",
    "You'll build the components necessary to build a Sequence-to-Sequence model by implementing the following functions below:\n",
    "- `model_inputs`\n",
    "- `process_decoder_input`\n",
    "- `encoding_layer`\n",
    "- `decoding_layer_train`\n",
    "- `decoding_layer_infer`\n",
    "- `decoding_layer`\n",
    "- `seq2seq_model`\n",
    "\n",
    "### Input\n",
    "Implement the `model_inputs()` function to create TF Placeholders for the Neural Network. It should create the following placeholders:\n",
    "\n",
    "- Input text placeholder named \"input\" using the TF Placeholder name parameter with rank 2.\n",
    "- Targets placeholder with rank 2.\n",
    "- Learning rate placeholder with rank 0.\n",
    "- Keep probability placeholder named \"keep_prob\" using the TF Placeholder name parameter with rank 0.\n",
    "- Target sequence length placeholder named \"target_sequence_length\" with rank 1\n",
    "- Max target sequence length tensor named \"max_target_len\" getting its value from applying tf.reduce_max on the target_sequence_length placeholder. Rank 0.\n",
    "- Source sequence length placeholder named \"source_sequence_length\" with rank 1\n",
    "\n",
    "Return the placeholders in the following the tuple (input, targets, learning rate, keep probability, target sequence length, max target sequence length, source sequence length)"
   ]
  },
  {
   "cell_type": "code",
   "execution_count": 7,
   "metadata": {},
   "outputs": [
    {
     "name": "stdout",
     "output_type": "stream",
     "text": [
      "ERROR:tensorflow:==================================\n",
      "Object was never used (type <class 'tensorflow.python.framework.ops.Operation'>):\n",
      "<tf.Operation 'assert_rank_2/Assert/Assert' type=Assert>\n",
      "If you want to mark it as used call its \"mark_used()\" method.\n",
      "It was originally created here:\n",
      "['File \"/Users/richardferri/anaconda/lib/python2.7/runpy.py\", line 174, in _run_module_as_main\\n    \"__main__\", fname, loader, pkg_name)', 'File \"/Users/richardferri/anaconda/lib/python2.7/runpy.py\", line 72, in _run_code\\n    exec code in run_globals', 'File \"/Users/richardferri/anaconda/lib/python2.7/site-packages/ipykernel_launcher.py\", line 16, in <module>\\n    app.launch_new_instance()', 'File \"/Users/richardferri/anaconda/lib/python2.7/site-packages/traitlets/config/application.py\", line 658, in launch_instance\\n    app.start()', 'File \"/Users/richardferri/anaconda/lib/python2.7/site-packages/ipykernel/kernelapp.py\", line 477, in start\\n    ioloop.IOLoop.instance().start()', 'File \"/Users/richardferri/anaconda/lib/python2.7/site-packages/zmq/eventloop/ioloop.py\", line 177, in start\\n    super(ZMQIOLoop, self).start()', 'File \"/Users/richardferri/anaconda/lib/python2.7/site-packages/tornado/ioloop.py\", line 888, in start\\n    handler_func(fd_obj, events)', 'File \"/Users/richardferri/anaconda/lib/python2.7/site-packages/tornado/stack_context.py\", line 277, in null_wrapper\\n    return fn(*args, **kwargs)', 'File \"/Users/richardferri/anaconda/lib/python2.7/site-packages/zmq/eventloop/zmqstream.py\", line 440, in _handle_events\\n    self._handle_recv()', 'File \"/Users/richardferri/anaconda/lib/python2.7/site-packages/zmq/eventloop/zmqstream.py\", line 472, in _handle_recv\\n    self._run_callback(callback, msg)', 'File \"/Users/richardferri/anaconda/lib/python2.7/site-packages/zmq/eventloop/zmqstream.py\", line 414, in _run_callback\\n    callback(*args, **kwargs)', 'File \"/Users/richardferri/anaconda/lib/python2.7/site-packages/tornado/stack_context.py\", line 277, in null_wrapper\\n    return fn(*args, **kwargs)', 'File \"/Users/richardferri/anaconda/lib/python2.7/site-packages/ipykernel/kernelbase.py\", line 283, in dispatcher\\n    return self.dispatch_shell(stream, msg)', 'File \"/Users/richardferri/anaconda/lib/python2.7/site-packages/ipykernel/kernelbase.py\", line 235, in dispatch_shell\\n    handler(stream, idents, msg)', 'File \"/Users/richardferri/anaconda/lib/python2.7/site-packages/ipykernel/kernelbase.py\", line 399, in execute_request\\n    user_expressions, allow_stdin)', 'File \"/Users/richardferri/anaconda/lib/python2.7/site-packages/ipykernel/ipkernel.py\", line 196, in do_execute\\n    res = shell.run_cell(code, store_history=store_history, silent=silent)', 'File \"/Users/richardferri/anaconda/lib/python2.7/site-packages/ipykernel/zmqshell.py\", line 533, in run_cell\\n    return super(ZMQInteractiveShell, self).run_cell(*args, **kwargs)', 'File \"/Users/richardferri/anaconda/lib/python2.7/site-packages/IPython/core/interactiveshell.py\", line 2717, in run_cell\\n    interactivity=interactivity, compiler=compiler, result=result)', 'File \"/Users/richardferri/anaconda/lib/python2.7/site-packages/IPython/core/interactiveshell.py\", line 2827, in run_ast_nodes\\n    if self.run_code(code, result):', 'File \"/Users/richardferri/anaconda/lib/python2.7/site-packages/IPython/core/interactiveshell.py\", line 2881, in run_code\\n    exec(code_obj, self.user_global_ns, self.user_ns)', u'File \"<ipython-input-7-c4ba81783ead>\", line 21, in <module>\\n    tests.test_model_inputs(model_inputs)', 'File \"problem_unittests.py\", line 106, in test_model_inputs\\n    assert tf.assert_rank(lr, 0, message=\\'Learning Rate has wrong rank\\')', 'File \"/Users/richardferri/anaconda/lib/python2.7/site-packages/tensorflow/python/ops/check_ops.py\", line 617, in assert_rank\\n    dynamic_condition, data, summarize)', 'File \"/Users/richardferri/anaconda/lib/python2.7/site-packages/tensorflow/python/ops/check_ops.py\", line 571, in _assert_rank_condition\\n    return control_flow_ops.Assert(condition, data, summarize=summarize)', 'File \"/Users/richardferri/anaconda/lib/python2.7/site-packages/tensorflow/python/util/tf_should_use.py\", line 175, in wrapped\\n    return _add_should_use_warning(fn(*args, **kwargs))', 'File \"/Users/richardferri/anaconda/lib/python2.7/site-packages/tensorflow/python/util/tf_should_use.py\", line 144, in _add_should_use_warning\\n    wrapped = TFShouldUseWarningWrapper(x)', 'File \"/Users/richardferri/anaconda/lib/python2.7/site-packages/tensorflow/python/util/tf_should_use.py\", line 101, in __init__\\n    stack = [s.strip() for s in traceback.format_stack()]']\n",
      "==================================\n",
      "ERROR:tensorflow:==================================\n",
      "Object was never used (type <class 'tensorflow.python.framework.ops.Operation'>):\n",
      "<tf.Operation 'assert_rank_3/Assert/Assert' type=Assert>\n",
      "If you want to mark it as used call its \"mark_used()\" method.\n",
      "It was originally created here:\n",
      "['File \"/Users/richardferri/anaconda/lib/python2.7/runpy.py\", line 174, in _run_module_as_main\\n    \"__main__\", fname, loader, pkg_name)', 'File \"/Users/richardferri/anaconda/lib/python2.7/runpy.py\", line 72, in _run_code\\n    exec code in run_globals', 'File \"/Users/richardferri/anaconda/lib/python2.7/site-packages/ipykernel_launcher.py\", line 16, in <module>\\n    app.launch_new_instance()', 'File \"/Users/richardferri/anaconda/lib/python2.7/site-packages/traitlets/config/application.py\", line 658, in launch_instance\\n    app.start()', 'File \"/Users/richardferri/anaconda/lib/python2.7/site-packages/ipykernel/kernelapp.py\", line 477, in start\\n    ioloop.IOLoop.instance().start()', 'File \"/Users/richardferri/anaconda/lib/python2.7/site-packages/zmq/eventloop/ioloop.py\", line 177, in start\\n    super(ZMQIOLoop, self).start()', 'File \"/Users/richardferri/anaconda/lib/python2.7/site-packages/tornado/ioloop.py\", line 888, in start\\n    handler_func(fd_obj, events)', 'File \"/Users/richardferri/anaconda/lib/python2.7/site-packages/tornado/stack_context.py\", line 277, in null_wrapper\\n    return fn(*args, **kwargs)', 'File \"/Users/richardferri/anaconda/lib/python2.7/site-packages/zmq/eventloop/zmqstream.py\", line 440, in _handle_events\\n    self._handle_recv()', 'File \"/Users/richardferri/anaconda/lib/python2.7/site-packages/zmq/eventloop/zmqstream.py\", line 472, in _handle_recv\\n    self._run_callback(callback, msg)', 'File \"/Users/richardferri/anaconda/lib/python2.7/site-packages/zmq/eventloop/zmqstream.py\", line 414, in _run_callback\\n    callback(*args, **kwargs)', 'File \"/Users/richardferri/anaconda/lib/python2.7/site-packages/tornado/stack_context.py\", line 277, in null_wrapper\\n    return fn(*args, **kwargs)', 'File \"/Users/richardferri/anaconda/lib/python2.7/site-packages/ipykernel/kernelbase.py\", line 283, in dispatcher\\n    return self.dispatch_shell(stream, msg)', 'File \"/Users/richardferri/anaconda/lib/python2.7/site-packages/ipykernel/kernelbase.py\", line 235, in dispatch_shell\\n    handler(stream, idents, msg)', 'File \"/Users/richardferri/anaconda/lib/python2.7/site-packages/ipykernel/kernelbase.py\", line 399, in execute_request\\n    user_expressions, allow_stdin)', 'File \"/Users/richardferri/anaconda/lib/python2.7/site-packages/ipykernel/ipkernel.py\", line 196, in do_execute\\n    res = shell.run_cell(code, store_history=store_history, silent=silent)', 'File \"/Users/richardferri/anaconda/lib/python2.7/site-packages/ipykernel/zmqshell.py\", line 533, in run_cell\\n    return super(ZMQInteractiveShell, self).run_cell(*args, **kwargs)', 'File \"/Users/richardferri/anaconda/lib/python2.7/site-packages/IPython/core/interactiveshell.py\", line 2717, in run_cell\\n    interactivity=interactivity, compiler=compiler, result=result)', 'File \"/Users/richardferri/anaconda/lib/python2.7/site-packages/IPython/core/interactiveshell.py\", line 2827, in run_ast_nodes\\n    if self.run_code(code, result):', 'File \"/Users/richardferri/anaconda/lib/python2.7/site-packages/IPython/core/interactiveshell.py\", line 2881, in run_code\\n    exec(code_obj, self.user_global_ns, self.user_ns)', u'File \"<ipython-input-7-c4ba81783ead>\", line 21, in <module>\\n    tests.test_model_inputs(model_inputs)', 'File \"problem_unittests.py\", line 107, in test_model_inputs\\n    assert tf.assert_rank(keep_prob, 0, message=\\'Keep Probability has wrong rank\\')', 'File \"/Users/richardferri/anaconda/lib/python2.7/site-packages/tensorflow/python/ops/check_ops.py\", line 617, in assert_rank\\n    dynamic_condition, data, summarize)', 'File \"/Users/richardferri/anaconda/lib/python2.7/site-packages/tensorflow/python/ops/check_ops.py\", line 571, in _assert_rank_condition\\n    return control_flow_ops.Assert(condition, data, summarize=summarize)', 'File \"/Users/richardferri/anaconda/lib/python2.7/site-packages/tensorflow/python/util/tf_should_use.py\", line 175, in wrapped\\n    return _add_should_use_warning(fn(*args, **kwargs))', 'File \"/Users/richardferri/anaconda/lib/python2.7/site-packages/tensorflow/python/util/tf_should_use.py\", line 144, in _add_should_use_warning\\n    wrapped = TFShouldUseWarningWrapper(x)', 'File \"/Users/richardferri/anaconda/lib/python2.7/site-packages/tensorflow/python/util/tf_should_use.py\", line 101, in __init__\\n    stack = [s.strip() for s in traceback.format_stack()]']\n",
      "==================================\n"
     ]
    },
    {
     "name": "stdout",
     "output_type": "stream",
     "text": [
      "Tests Passed\n"
     ]
    }
   ],
   "source": [
    "def model_inputs():\n",
    "    \"\"\"\n",
    "    Create TF Placeholders for input, targets, learning rate, and lengths of source and target sequences.\n",
    "    :return: Tuple (input, targets, learning rate, keep probability, target sequence length,\n",
    "    max target sequence length, source sequence length)\n",
    "    \"\"\"\n",
    "    # TODO: Implement Function\n",
    "    inputs_ = tf.placeholder(tf.int32, [None, None], name='input')\n",
    "    targets_ = tf.placeholder(tf.int32, [None, None], name='targets')\n",
    "    learning_ = tf.placeholder(tf.float32, name='learning_rate')\n",
    "    keep_prob_ = tf.placeholder(tf.float32, name='keep_prob')\n",
    "    target_sequence_length_ = tf.placeholder(tf.int32, [None], name='target_sequence_length')\n",
    "    source_sequence_length_ = tf.placeholder(tf.int32, [None], name='source_sequence_length')\n",
    "    max_target_len_ = tf.reduce_max(target_sequence_length_,name='max_target_len')\n",
    "    return (inputs_, targets_, learning_, keep_prob_, target_sequence_length_, max_target_len_, source_sequence_length_)\n",
    "\n",
    "\n",
    "\"\"\"\n",
    "DON'T MODIFY ANYTHING IN THIS CELL THAT IS BELOW THIS LINE\n",
    "\"\"\"\n",
    "tests.test_model_inputs(model_inputs)"
   ]
  },
  {
   "cell_type": "markdown",
   "metadata": {},
   "source": [
    "### Process Decoder Input\n",
    "Implement `process_decoder_input` by removing the last word id from each batch in `target_data` and concat the GO ID to the begining of each batch."
   ]
  },
  {
   "cell_type": "code",
   "execution_count": 8,
   "metadata": {},
   "outputs": [
    {
     "name": "stdout",
     "output_type": "stream",
     "text": [
      "Tests Passed\n"
     ]
    }
   ],
   "source": [
    "def process_decoder_input(target_data, target_vocab_to_int, batch_size):\n",
    "    \"\"\"\n",
    "    Preprocess target data for encoding\n",
    "    :param target_data: Target Placehoder\n",
    "    :param target_vocab_to_int: Dictionary to go from the target words to an id\n",
    "    :param batch_size: Batch Size\n",
    "    :return: Preprocessed target data\n",
    "    \"\"\"\n",
    "    # TODO: Implement Function\n",
    "    GOid = target_vocab_to_int['<GO>']\n",
    "    GOidm = tf.ones_like(target_data[:,0])\n",
    "    GOidm = tf.multiply(GOidm,GOid)\n",
    "    pp_target_data = tf.concat([GOidm[:,None], target_data[:,:-1]],1)\n",
    "    return pp_target_data\n",
    "\n",
    "\n",
    "\"\"\"\n",
    "DON'T MODIFY ANYTHING IN THIS CELL THAT IS BELOW THIS LINE\n",
    "\"\"\"\n",
    "tests.test_process_encoding_input(process_decoder_input)"
   ]
  },
  {
   "cell_type": "markdown",
   "metadata": {},
   "source": [
    "### Encoding\n",
    "Implement `encoding_layer()` to create a Encoder RNN layer:\n",
    " * Embed the encoder input using [`tf.contrib.layers.embed_sequence`](https://www.tensorflow.org/api_docs/python/tf/contrib/layers/embed_sequence)\n",
    " * Construct a [stacked](https://github.com/tensorflow/tensorflow/blob/6947f65a374ebf29e74bb71e36fd82760056d82c/tensorflow/docs_src/tutorials/recurrent.md#stacking-multiple-lstms) [`tf.contrib.rnn.LSTMCell`](https://www.tensorflow.org/api_docs/python/tf/contrib/rnn/LSTMCell) wrapped in a [`tf.contrib.rnn.DropoutWrapper`](https://www.tensorflow.org/api_docs/python/tf/contrib/rnn/DropoutWrapper)\n",
    " * Pass cell and embedded input to [`tf.nn.dynamic_rnn()`](https://www.tensorflow.org/api_docs/python/tf/nn/dynamic_rnn)"
   ]
  },
  {
   "cell_type": "code",
   "execution_count": 9,
   "metadata": {
    "scrolled": false
   },
   "outputs": [
    {
     "name": "stdout",
     "output_type": "stream",
     "text": [
      "Tests Passed\n"
     ]
    }
   ],
   "source": [
    "from imp import reload\n",
    "reload(tests)\n",
    "\n",
    "def encoding_layer(rnn_inputs, rnn_size, num_layers, keep_prob, \n",
    "                   source_sequence_length, source_vocab_size, \n",
    "                   encoding_embedding_size):\n",
    "    \"\"\"\n",
    "    Create encoding layer\n",
    "    :param rnn_inputs: Inputs for the RNN\n",
    "    :param rnn_size: RNN Size\n",
    "    :param num_layers: Number of layers\n",
    "    :param keep_prob: Dropout keep probability\n",
    "    :param source_sequence_length: a list of the lengths of each sequence in the batch\n",
    "    :param source_vocab_size: vocabulary size of source data\n",
    "    :param encoding_embedding_size: embedding size of source data\n",
    "    :return: tuple (RNN output, RNN state)\n",
    "    \"\"\"\n",
    "    embed_seq = tf.contrib.layers.embed_sequence(rnn_inputs, vocab_size=source_vocab_size, embed_dim=encoding_embedding_size)\n",
    "    stacked_lstm = tf.contrib.rnn.MultiRNNCell(\n",
    "        [tf.contrib.rnn.DropoutWrapper(tf.contrib.rnn.LSTMCell(rnn_size), keep_prob) for _ in range(num_layers)] )\n",
    "    output, state = tf.nn.dynamic_rnn(stacked_lstm, embed_seq, source_sequence_length, dtype=tf.float32)\n",
    "\n",
    "    return output, state \n",
    "\n",
    "\"\"\"\n",
    "DON'T MODIFY ANYTHING IN THIS CELL THAT IS BELOW THIS LINE\n",
    "\"\"\"\n",
    "tests.test_encoding_layer(encoding_layer)"
   ]
  },
  {
   "cell_type": "markdown",
   "metadata": {},
   "source": [
    "### Decoding - Training\n",
    "Create a training decoding layer:\n",
    "* Create a [`tf.contrib.seq2seq.TrainingHelper`](https://www.tensorflow.org/api_docs/python/tf/contrib/seq2seq/TrainingHelper) \n",
    "* Create a [`tf.contrib.seq2seq.BasicDecoder`](https://www.tensorflow.org/api_docs/python/tf/contrib/seq2seq/BasicDecoder)\n",
    "* Obtain the decoder outputs from [`tf.contrib.seq2seq.dynamic_decode`](https://www.tensorflow.org/api_docs/python/tf/contrib/seq2seq/dynamic_decode)"
   ]
  },
  {
   "cell_type": "code",
   "execution_count": 10,
   "metadata": {},
   "outputs": [
    {
     "name": "stdout",
     "output_type": "stream",
     "text": [
      "Tests Passed\n"
     ]
    }
   ],
   "source": [
    "\n",
    "def decoding_layer_train(encoder_state, dec_cell, dec_embed_input, \n",
    "                         target_sequence_length, max_summary_length, \n",
    "                         output_layer, keep_prob):\n",
    "    \"\"\"\n",
    "    Create a decoding layer for training\n",
    "    :param encoder_state: Encoder State\n",
    "    :param dec_cell: Decoder RNN Cell\n",
    "    :param dec_embed_input: Decoder embedded input\n",
    "    :param target_sequence_length: The lengths of each sequence in the target batch\n",
    "    :param max_summary_length: The length of the longest sequence in the batch\n",
    "    :param output_layer: Function to apply the output layer\n",
    "    :param keep_prob: Dropout keep probability\n",
    "    :return: BasicDecoderOutput containing training logits and sample_id\n",
    "    \"\"\"\n",
    "    # RDF: Implement Function\n",
    "\n",
    "    training_helper = tf.contrib.seq2seq.TrainingHelper(inputs=dec_embed_input,\n",
    "                                                        sequence_length=target_sequence_length,\n",
    "                                                        time_major=False)\n",
    "    training_decoder = tf.contrib.seq2seq.BasicDecoder(dec_cell,\n",
    "                                                        training_helper,\n",
    "                                                        encoder_state,\n",
    "                                                        output_layer)\n",
    "    training_decoder_output = tf.contrib.seq2seq.dynamic_decode(decoder=training_decoder,\n",
    "                                                                     output_time_major=False,\n",
    "                                                                     impute_finished=True, \n",
    "                                                                       maximum_iterations=max_summary_length)\n",
    "    return training_decoder_output[0]\n",
    "\n",
    "\n",
    "\n",
    "\n",
    "\"\"\"\n",
    "DON'T MODIFY ANYTHING IN THIS CELL THAT IS BELOW THIS LINE\n",
    "\"\"\"\n",
    "tests.test_decoding_layer_train(decoding_layer_train)"
   ]
  },
  {
   "cell_type": "markdown",
   "metadata": {},
   "source": [
    "### Decoding - Inference\n",
    "Create inference decoder:\n",
    "* Create a [`tf.contrib.seq2seq.GreedyEmbeddingHelper`](https://www.tensorflow.org/api_docs/python/tf/contrib/seq2seq/GreedyEmbeddingHelper)\n",
    "* Create a [`tf.contrib.seq2seq.BasicDecoder`](https://www.tensorflow.org/api_docs/python/tf/contrib/seq2seq/BasicDecoder)\n",
    "* Obtain the decoder outputs from [`tf.contrib.seq2seq.dynamic_decode`](https://www.tensorflow.org/api_docs/python/tf/contrib/seq2seq/dynamic_decode)"
   ]
  },
  {
   "cell_type": "code",
   "execution_count": 11,
   "metadata": {
    "scrolled": true
   },
   "outputs": [
    {
     "name": "stdout",
     "output_type": "stream",
     "text": [
      "Tests Passed\n"
     ]
    }
   ],
   "source": [
    "def decoding_layer_infer(encoder_state, dec_cell, dec_embeddings, start_of_sequence_id,\n",
    "                         end_of_sequence_id, max_target_sequence_length,\n",
    "                         vocab_size, output_layer, batch_size, keep_prob):\n",
    "    \"\"\"\n",
    "    Create a decoding layer for inference\n",
    "    :param encoder_state: Encoder state\n",
    "    :param dec_cell: Decoder RNN Cell\n",
    "    :param dec_embeddings: Decoder embeddings\n",
    "    :param start_of_sequence_id: GO ID\n",
    "    :param end_of_sequence_id: EOS Id\n",
    "    :param max_target_sequence_length: Maximum length of target sequences\n",
    "    :param vocab_size: Size of decoder/target vocabulary\n",
    "    :param decoding_scope: TenorFlow Variable Scope for decoding\n",
    "    :param output_layer: Function to apply the output layer\n",
    "    :param batch_size: Batch size\n",
    "    :param keep_prob: Dropout keep probability\n",
    "    :return: BasicDecoderOutput containing inference logits and sample_id\n",
    "    \"\"\"\n",
    "    # RDF: Implement Function\n",
    "    # keep_prob  Maybe add a dropout layer?\n",
    "\n",
    "    start_tokens = tf.tile(tf.constant([start_of_sequence_id], dtype=tf.int32), [batch_size], name='start_tokens')\n",
    "    pred_helper = tf.contrib.seq2seq.GreedyEmbeddingHelper(\n",
    "        dec_embeddings, start_tokens=start_tokens, end_token=end_of_sequence_id)\n",
    "    \n",
    "    \n",
    "    training_decoder = tf.contrib.seq2seq.BasicDecoder(dec_cell,\n",
    "                                                        pred_helper,\n",
    "                                                        encoder_state,\n",
    "                                                        output_layer)\n",
    "\n",
    "    training_decoder_output  = tf.contrib.seq2seq.dynamic_decode(decoder=training_decoder,\n",
    "                                                                     output_time_major=False,\n",
    "                                                                     impute_finished=True, \n",
    "                                                                       maximum_iterations=max_target_sequence_length)\n",
    "    \n",
    "    \n",
    "    return training_decoder_output[0]\n",
    "\n",
    "\n",
    "\n",
    "\"\"\"\n",
    "DON'T MODIFY ANYTHING IN THIS CELL THAT IS BELOW THIS LINE\n",
    "\"\"\"\n",
    "tests.test_decoding_layer_infer(decoding_layer_infer)"
   ]
  },
  {
   "cell_type": "markdown",
   "metadata": {},
   "source": [
    "### Build the Decoding Layer\n",
    "Implement `decoding_layer()` to create a Decoder RNN layer.\n",
    "\n",
    "* Embed the target sequences\n",
    "* Construct the decoder LSTM cell (just like you constructed the encoder cell above)\n",
    "* Create an output layer to map the outputs of the decoder to the elements of our vocabulary\n",
    "* Use the your `decoding_layer_train(encoder_state, dec_cell, dec_embed_input, target_sequence_length, max_target_sequence_length, output_layer, keep_prob)` function to get the training logits.\n",
    "* Use your `decoding_layer_infer(encoder_state, dec_cell, dec_embeddings, start_of_sequence_id, end_of_sequence_id, max_target_sequence_length, vocab_size, output_layer, batch_size, keep_prob)` function to get the inference logits.\n",
    "\n",
    "Note: You'll need to use [tf.variable_scope](https://www.tensorflow.org/api_docs/python/tf/variable_scope) to share variables between training and inference."
   ]
  },
  {
   "cell_type": "code",
   "execution_count": 12,
   "metadata": {},
   "outputs": [
    {
     "name": "stdout",
     "output_type": "stream",
     "text": [
      "Tests Passed\n"
     ]
    }
   ],
   "source": [
    "def decoding_layer(dec_input, encoder_state,\n",
    "                   target_sequence_length,\n",
    "                   max_target_sequence_length,\n",
    "                   rnn_size,\n",
    "                   num_layers, \n",
    "                   target_vocab_to_int,\n",
    "                   target_vocab_size,\n",
    "                   batch_size,\n",
    "                   keep_prob, \n",
    "                   decoding_embedding_size):\n",
    "    \"\"\"\n",
    "    Create decoding layer\n",
    "    :param dec_input: Decoder input\n",
    "    :param encoder_state: Encoder state\n",
    "    :param target_sequence_length: The lengths of each sequence in the target batch\n",
    "    :param max_target_sequence_length: Maximum length of target sequences\n",
    "    :param rnn_size: RNN Size\n",
    "    :param num_layers: Number of layers\n",
    "    :param target_vocab_to_int: Dictionary to go from the target words to an id\n",
    "    :param target_vocab_size: Size of target vocabulary\n",
    "    :param batch_size: The size of the batch\n",
    "    :param keep_prob: Dropout keep probability\n",
    "    :param decoding_embedding_size: Decoding embedding size\n",
    "    :return: Tuple of (Training BasicDecoderOutput, Inference BasicDecoderOutput)\n",
    "    \"\"\"\n",
    "    embedding = tf.Variable(tf.random_uniform( [target_vocab_size, decoding_embedding_size], -1, 1)) \n",
    "    dec_embed_input = tf.nn.embedding_lookup(embedding, dec_input)\n",
    "\n",
    "   \n",
    "    \n",
    "    dec_cells = tf.contrib.rnn.MultiRNNCell([tf.contrib.rnn.DropoutWrapper(tf.contrib.rnn.BasicLSTMCell(rnn_size), output_keep_prob=keep_prob) for _ in range(num_layers)])\n",
    "       # output layer\n",
    "    output_layer = Dense(target_vocab_size,\n",
    "                         kernel_initializer = tf.truncated_normal_initializer(mean=0.0, stddev=0.1))\n",
    "    training_decoder_logits = None\n",
    "    infer_decoder_logits = None\n",
    "    \n",
    "    with tf.variable_scope('decode'):\n",
    "        training_decoder_logits = decoding_layer_train(encoder_state, \n",
    "                                                       dec_cells, \n",
    "                                                       dec_embed_input, \n",
    "                                                       target_sequence_length,\n",
    "                                                       max_target_sequence_length, \n",
    "                                                       output_layer, \n",
    "                                                       keep_prob)\n",
    "    with tf.variable_scope('decode', reuse=True):\n",
    "        infer_decoder_logits = decoding_layer_infer(encoder_state, \n",
    "                                                    dec_cells, \n",
    "                                                    embedding, \n",
    "                                                    target_vocab_to_int['<GO>'], \n",
    "                                                    target_vocab_to_int['<EOS>'], \n",
    "                                                    max_target_sequence_length, \n",
    "                                                    target_vocab_size, \n",
    "                                                    output_layer, \n",
    "                                                    batch_size, \n",
    "                                                    keep_prob)\n",
    "    return training_decoder_logits, infer_decoder_logits\n",
    "\n",
    "\n",
    "\"\"\"\n",
    "DON'T MODIFY ANYTHING IN THIS CELL THAT IS BELOW THIS LINE\n",
    "\"\"\"\n",
    "tests.test_decoding_layer(decoding_layer)"
   ]
  },
  {
   "cell_type": "markdown",
   "metadata": {},
   "source": [
    "### Build the Neural Network\n",
    "Apply the functions you implemented above to:\n",
    "\n",
    "- Encode the input using your `encoding_layer(rnn_inputs, rnn_size, num_layers, keep_prob,  source_sequence_length, source_vocab_size, encoding_embedding_size)`.\n",
    "- Process target data using your `process_decoder_input(target_data, target_vocab_to_int, batch_size)` function.\n",
    "- Decode the encoded input using your `decoding_layer(dec_input, enc_state, target_sequence_length, max_target_sentence_length, rnn_size, num_layers, target_vocab_to_int, target_vocab_size, batch_size, keep_prob, dec_embedding_size)` function."
   ]
  },
  {
   "cell_type": "code",
   "execution_count": 13,
   "metadata": {},
   "outputs": [
    {
     "name": "stdout",
     "output_type": "stream",
     "text": [
      "Tests Passed\n"
     ]
    }
   ],
   "source": [
    "def seq2seq_model(input_data, target_data, keep_prob, batch_size,\n",
    "                  source_sequence_length, target_sequence_length,\n",
    "                  max_target_sentence_length,\n",
    "                  source_vocab_size, target_vocab_size,\n",
    "                  enc_embedding_size, dec_embedding_size,\n",
    "                  rnn_size, num_layers, target_vocab_to_int):\n",
    "    \"\"\"\n",
    "    Build the Sequence-to-Sequence part of the neural network\n",
    "    :param input_data: Input placeholder\n",
    "    :param target_data: Target placeholder\n",
    "    :param keep_prob: Dropout keep probability placeholder\n",
    "    :param batch_size: Batch Size\n",
    "    :param source_sequence_length: Sequence Lengths of source sequences in the batch\n",
    "    :param target_sequence_length: Sequence Lengths of target sequences in the batch\n",
    "    :param source_vocab_size: Source vocabulary size\n",
    "    :param target_vocab_size: Target vocabulary size\n",
    "    :param enc_embedding_size: Decoder embedding size\n",
    "    :param dec_embedding_size: Encoder embedding size\n",
    "    :param rnn_size: RNN Size\n",
    "    :param num_layers: Number of layers\n",
    "    :param target_vocab_to_int: Dictionary to go from the target words to an id\n",
    "    :return: Tuple of (Training BasicDecoderOutput, Inference BasicDecoderOutput)\n",
    "    \"\"\"\n",
    "    # TODO: Implement Function\n",
    "    \n",
    "       \n",
    "    \n",
    "    embedding, embedding_state = encoding_layer(input_data,\n",
    "                   rnn_size, \n",
    "                   num_layers, \n",
    "                   keep_prob,  \n",
    "                   source_sequence_length,\n",
    "                   source_vocab_size, \n",
    "                   enc_embedding_size)\n",
    "        \n",
    "    processed_decoder = process_decoder_input(target_data, target_vocab_to_int, batch_size)\n",
    "    \n",
    "    training_decoder_logits, infer_decoder_logits = decoding_layer(processed_decoder, \n",
    "                                                                   embedding_state, \n",
    "                                                                   target_sequence_length,\n",
    "                                                                   max_target_sentence_length, \n",
    "                                                                   rnn_size,\n",
    "                                                                   num_layers,\n",
    "                                                                   target_vocab_to_int, \n",
    "                                                                   target_vocab_size, \n",
    "                                                                   batch_size,\n",
    "                                                                   keep_prob, dec_embedding_size) \n",
    "    return training_decoder_logits, infer_decoder_logits\n",
    "\n",
    "\n",
    "\"\"\"\n",
    "DON'T MODIFY ANYTHING IN THIS CELL THAT IS BELOW THIS LINE\n",
    "\"\"\"\n",
    "tests.test_seq2seq_model(seq2seq_model)"
   ]
  },
  {
   "cell_type": "markdown",
   "metadata": {},
   "source": [
    "## Neural Network Training\n",
    "### Hyperparameters\n",
    "Tune the following parameters:\n",
    "\n",
    "- Set `epochs` to the number of epochs.\n",
    "- Set `batch_size` to the batch size.\n",
    "- Set `rnn_size` to the size of the RNNs.\n",
    "- Set `num_layers` to the number of layers.\n",
    "- Set `encoding_embedding_size` to the size of the embedding for the encoder.\n",
    "- Set `decoding_embedding_size` to the size of the embedding for the decoder.\n",
    "- Set `learning_rate` to the learning rate.\n",
    "- Set `keep_probability` to the Dropout keep probability\n",
    "- Set `display_step` to state how many steps between each debug output statement"
   ]
  },
  {
   "cell_type": "code",
   "execution_count": 14,
   "metadata": {
    "collapsed": true
   },
   "outputs": [],
   "source": [
    "# Number of Epochs\n",
    "#     batch_size = 64\n",
    "#     vocab_size = 300\n",
    "#     embedding_size = 100\n",
    "#     sequence_length = 22\n",
    "#     rnn_size = 512\n",
    "#     num_layers = 3\n",
    "epochs = 5\n",
    "# Batch Size\n",
    "batch_size = 64\n",
    "# RNN Size\n",
    "rnn_size = 512\n",
    "# Number of Layers\n",
    "num_layers = 3\n",
    "# Embedding Size\n",
    "encoding_embedding_size = 128\n",
    "decoding_embedding_size = 128\n",
    "# Learning Rate\n",
    "learning_rate = 0.01\n",
    "# Dropout Keep Probability\n",
    "keep_probability = 0.5\n",
    "display_step = True"
   ]
  },
  {
   "cell_type": "markdown",
   "metadata": {},
   "source": [
    "### Build the Graph\n",
    "Build the graph using the neural network you implemented."
   ]
  },
  {
   "cell_type": "code",
   "execution_count": 15,
   "metadata": {
    "collapsed": true
   },
   "outputs": [],
   "source": [
    "\"\"\"\n",
    "DON'T MODIFY ANYTHING IN THIS CELL\n",
    "\"\"\"\n",
    "save_path = 'checkpoints/dev'\n",
    "(source_int_text, target_int_text), (source_vocab_to_int, target_vocab_to_int), _ = helper.load_preprocess()\n",
    "max_target_sentence_length = max([len(sentence) for sentence in source_int_text])\n",
    "\n",
    "train_graph = tf.Graph()\n",
    "with train_graph.as_default():\n",
    "    input_data, targets, lr, keep_prob, target_sequence_length, max_target_sequence_length, source_sequence_length = model_inputs()\n",
    "\n",
    "    #sequence_length = tf.placeholder_with_default(max_target_sentence_length, None, name='sequence_length')\n",
    "    input_shape = tf.shape(input_data)\n",
    "\n",
    "    train_logits, inference_logits = seq2seq_model(tf.reverse(input_data, [-1]),\n",
    "                                                   targets,\n",
    "                                                   keep_prob,\n",
    "                                                   batch_size,\n",
    "                                                   source_sequence_length,\n",
    "                                                   target_sequence_length,\n",
    "                                                   max_target_sequence_length,\n",
    "                                                   len(source_vocab_to_int),\n",
    "                                                   len(target_vocab_to_int),\n",
    "                                                   encoding_embedding_size,\n",
    "                                                   decoding_embedding_size,\n",
    "                                                   rnn_size,\n",
    "                                                   num_layers,\n",
    "                                                   target_vocab_to_int)\n",
    "\n",
    "\n",
    "    training_logits = tf.identity(train_logits.rnn_output, name='logits')\n",
    "    inference_logits = tf.identity(inference_logits.sample_id, name='predictions')\n",
    "\n",
    "    masks = tf.sequence_mask(target_sequence_length, max_target_sequence_length, dtype=tf.float32, name='masks')\n",
    "\n",
    "    with tf.name_scope(\"optimization\"):\n",
    "        # Loss function\n",
    "        cost = tf.contrib.seq2seq.sequence_loss(\n",
    "            training_logits,\n",
    "            targets,\n",
    "            masks)\n",
    "\n",
    "        # Optimizer\n",
    "        optimizer = tf.train.AdamOptimizer(lr)\n",
    "\n",
    "        # Gradient Clipping\n",
    "        gradients = optimizer.compute_gradients(cost)\n",
    "        capped_gradients = [(tf.clip_by_value(grad, -1., 1.), var) for grad, var in gradients if grad is not None]\n",
    "        train_op = optimizer.apply_gradients(capped_gradients)\n"
   ]
  },
  {
   "cell_type": "markdown",
   "metadata": {},
   "source": [
    "Batch and pad the source and target sequences"
   ]
  },
  {
   "cell_type": "code",
   "execution_count": 16,
   "metadata": {
    "collapsed": true
   },
   "outputs": [],
   "source": [
    "\"\"\"\n",
    "DON'T MODIFY ANYTHING IN THIS CELL\n",
    "\"\"\"\n",
    "def pad_sentence_batch(sentence_batch, pad_int):\n",
    "    \"\"\"Pad sentences with <PAD> so that each sentence of a batch has the same length\"\"\"\n",
    "    max_sentence = max([len(sentence) for sentence in sentence_batch])\n",
    "    return [sentence + [pad_int] * (max_sentence - len(sentence)) for sentence in sentence_batch]\n",
    "\n",
    "\n",
    "def get_batches(sources, targets, batch_size, source_pad_int, target_pad_int):\n",
    "    \"\"\"Batch targets, sources, and the lengths of their sentences together\"\"\"\n",
    "    for batch_i in range(0, len(sources)//batch_size):\n",
    "        start_i = batch_i * batch_size\n",
    "\n",
    "        # Slice the right amount for the batch\n",
    "        sources_batch = sources[start_i:start_i + batch_size]\n",
    "        targets_batch = targets[start_i:start_i + batch_size]\n",
    "\n",
    "        # Pad\n",
    "        pad_sources_batch = np.array(pad_sentence_batch(sources_batch, source_pad_int))\n",
    "        pad_targets_batch = np.array(pad_sentence_batch(targets_batch, target_pad_int))\n",
    "\n",
    "        # Need the lengths for the _lengths parameters\n",
    "        pad_targets_lengths = []\n",
    "        for target in pad_targets_batch:\n",
    "            pad_targets_lengths.append(len(target))\n",
    "\n",
    "        pad_source_lengths = []\n",
    "        for source in pad_sources_batch:\n",
    "            pad_source_lengths.append(len(source))\n",
    "\n",
    "        yield pad_sources_batch, pad_targets_batch, pad_source_lengths, pad_targets_lengths\n"
   ]
  },
  {
   "cell_type": "markdown",
   "metadata": {},
   "source": [
    "### Train\n",
    "Train the neural network on the preprocessed data. If you have a hard time getting a good loss, check the forms to see if anyone is having the same problem."
   ]
  },
  {
   "cell_type": "code",
   "execution_count": null,
   "metadata": {
    "scrolled": true
   },
   "outputs": [
    {
     "name": "stdout",
     "output_type": "stream",
     "text": [
      "Epoch   0 Batch    1/2154 - Train Accuracy: 0.2768, Validation Accuracy: 0.2777, Loss: 4.7224\n",
      "Epoch   0 Batch    2/2154 - Train Accuracy: 0.2656, Validation Accuracy: 0.2848, Loss: 6.3035\n",
      "Epoch   0 Batch    3/2154 - Train Accuracy: 0.1776, Validation Accuracy: 0.2599, Loss: 7.2267\n",
      "Epoch   0 Batch    4/2154 - Train Accuracy: 0.2445, Validation Accuracy: 0.3068, Loss: 5.4807\n",
      "Epoch   0 Batch    5/2154 - Train Accuracy: 0.0699, Validation Accuracy: 0.0938, Loss: 4.9931\n",
      "Epoch   0 Batch    6/2154 - Train Accuracy: 0.2245, Validation Accuracy: 0.2905, Loss: 4.7575\n",
      "Epoch   0 Batch    7/2154 - Train Accuracy: 0.2805, Validation Accuracy: 0.3175, Loss: 4.1406\n",
      "Epoch   0 Batch    8/2154 - Train Accuracy: 0.2253, Validation Accuracy: 0.3182, Loss: 4.0706\n",
      "Epoch   0 Batch    9/2154 - Train Accuracy: 0.3023, Validation Accuracy: 0.3466, Loss: 3.7558\n",
      "Epoch   0 Batch   10/2154 - Train Accuracy: 0.2883, Validation Accuracy: 0.3516, Loss: 3.7227\n",
      "Epoch   0 Batch   11/2154 - Train Accuracy: 0.2517, Validation Accuracy: 0.3352, Loss: 3.8366\n",
      "Epoch   0 Batch   12/2154 - Train Accuracy: 0.3180, Validation Accuracy: 0.3537, Loss: 3.5926\n",
      "Epoch   0 Batch   13/2154 - Train Accuracy: 0.2969, Validation Accuracy: 0.3615, Loss: 3.5194\n",
      "Epoch   0 Batch   14/2154 - Train Accuracy: 0.3086, Validation Accuracy: 0.3558, Loss: 3.3961\n",
      "Epoch   0 Batch   15/2154 - Train Accuracy: 0.2812, Validation Accuracy: 0.3430, Loss: 3.4200\n",
      "Epoch   0 Batch   16/2154 - Train Accuracy: 0.2977, Validation Accuracy: 0.3516, Loss: 3.3300\n",
      "Epoch   0 Batch   17/2154 - Train Accuracy: 0.3008, Validation Accuracy: 0.3516, Loss: 3.2902\n",
      "Epoch   0 Batch   18/2154 - Train Accuracy: 0.3031, Validation Accuracy: 0.3530, Loss: 3.2865\n",
      "Epoch   0 Batch   19/2154 - Train Accuracy: 0.3250, Validation Accuracy: 0.3686, Loss: 3.2669\n",
      "Epoch   0 Batch   20/2154 - Train Accuracy: 0.3422, Validation Accuracy: 0.3707, Loss: 3.0806\n",
      "Epoch   0 Batch   21/2154 - Train Accuracy: 0.2319, Validation Accuracy: 0.3246, Loss: 3.3289\n",
      "Epoch   0 Batch   22/2154 - Train Accuracy: 0.2607, Validation Accuracy: 0.3473, Loss: 3.4400\n",
      "Epoch   0 Batch   23/2154 - Train Accuracy: 0.3039, Validation Accuracy: 0.3537, Loss: 3.2059\n",
      "Epoch   0 Batch   24/2154 - Train Accuracy: 0.3244, Validation Accuracy: 0.3615, Loss: 3.1013\n",
      "Epoch   0 Batch   25/2154 - Train Accuracy: 0.2984, Validation Accuracy: 0.3587, Loss: 3.1946\n",
      "Epoch   0 Batch   26/2154 - Train Accuracy: 0.3039, Validation Accuracy: 0.3558, Loss: 3.0599\n",
      "Epoch   0 Batch   27/2154 - Train Accuracy: 0.2977, Validation Accuracy: 0.3679, Loss: 3.1403\n",
      "Epoch   0 Batch   28/2154 - Train Accuracy: 0.3504, Validation Accuracy: 0.3686, Loss: 3.0269\n",
      "Epoch   0 Batch   29/2154 - Train Accuracy: 0.3266, Validation Accuracy: 0.3487, Loss: 2.9109\n",
      "Epoch   0 Batch   30/2154 - Train Accuracy: 0.2781, Validation Accuracy: 0.3395, Loss: 2.9531\n",
      "Epoch   0 Batch   31/2154 - Train Accuracy: 0.2719, Validation Accuracy: 0.3438, Loss: 2.9810\n",
      "Epoch   0 Batch   32/2154 - Train Accuracy: 0.2837, Validation Accuracy: 0.3622, Loss: 3.0683\n",
      "Epoch   0 Batch   33/2154 - Train Accuracy: 0.2516, Validation Accuracy: 0.3161, Loss: 2.9501\n",
      "Epoch   0 Batch   34/2154 - Train Accuracy: 0.2607, Validation Accuracy: 0.3359, Loss: 3.2063\n",
      "Epoch   0 Batch   35/2154 - Train Accuracy: 0.2969, Validation Accuracy: 0.3615, Loss: 2.8952\n",
      "Epoch   0 Batch   36/2154 - Train Accuracy: 0.2820, Validation Accuracy: 0.3530, Loss: 2.8379\n",
      "Epoch   0 Batch   37/2154 - Train Accuracy: 0.2706, Validation Accuracy: 0.3622, Loss: 3.0653\n",
      "Epoch   0 Batch   38/2154 - Train Accuracy: 0.2922, Validation Accuracy: 0.3665, Loss: 2.8824\n",
      "Epoch   0 Batch   39/2154 - Train Accuracy: 0.2961, Validation Accuracy: 0.3388, Loss: 2.8093\n",
      "Epoch   0 Batch   40/2154 - Train Accuracy: 0.2664, Validation Accuracy: 0.3537, Loss: 2.9383\n",
      "Epoch   0 Batch   41/2154 - Train Accuracy: 0.2944, Validation Accuracy: 0.3558, Loss: 2.8416\n",
      "Epoch   0 Batch   42/2154 - Train Accuracy: 0.2719, Validation Accuracy: 0.3260, Loss: 2.8888\n",
      "Epoch   0 Batch   43/2154 - Train Accuracy: 0.1933, Validation Accuracy: 0.3047, Loss: 2.9827\n",
      "Epoch   0 Batch   44/2154 - Train Accuracy: 0.2945, Validation Accuracy: 0.3430, Loss: 2.7825\n",
      "Epoch   0 Batch   45/2154 - Train Accuracy: 0.2780, Validation Accuracy: 0.3729, Loss: 2.9101\n",
      "Epoch   0 Batch   46/2154 - Train Accuracy: 0.2953, Validation Accuracy: 0.3459, Loss: 2.7288\n",
      "Epoch   0 Batch   47/2154 - Train Accuracy: 0.2836, Validation Accuracy: 0.3366, Loss: 2.6607\n",
      "Epoch   0 Batch   48/2154 - Train Accuracy: 0.2533, Validation Accuracy: 0.3558, Loss: 2.9130\n",
      "Epoch   0 Batch   49/2154 - Train Accuracy: 0.3203, Validation Accuracy: 0.3622, Loss: 2.5350\n",
      "Epoch   0 Batch   50/2154 - Train Accuracy: 0.2451, Validation Accuracy: 0.3601, Loss: 2.7176\n",
      "Epoch   0 Batch   51/2154 - Train Accuracy: 0.2883, Validation Accuracy: 0.3501, Loss: 2.5767\n",
      "Epoch   0 Batch   52/2154 - Train Accuracy: 0.2500, Validation Accuracy: 0.3324, Loss: 2.6340\n",
      "Epoch   0 Batch   53/2154 - Train Accuracy: 0.2906, Validation Accuracy: 0.3622, Loss: 2.5771\n",
      "Epoch   0 Batch   54/2154 - Train Accuracy: 0.2985, Validation Accuracy: 0.3750, Loss: 2.6171\n",
      "Epoch   0 Batch   55/2154 - Train Accuracy: 0.3164, Validation Accuracy: 0.3835, Loss: 2.3821\n",
      "Epoch   0 Batch   56/2154 - Train Accuracy: 0.3222, Validation Accuracy: 0.3835, Loss: 2.1972\n",
      "Epoch   0 Batch   57/2154 - Train Accuracy: 0.2992, Validation Accuracy: 0.3821, Loss: 2.2762\n",
      "Epoch   0 Batch   58/2154 - Train Accuracy: 0.2607, Validation Accuracy: 0.3104, Loss: 2.4779\n",
      "Epoch   0 Batch   59/2154 - Train Accuracy: 0.2574, Validation Accuracy: 0.2955, Loss: 2.3350\n",
      "Epoch   0 Batch   60/2154 - Train Accuracy: 0.2133, Validation Accuracy: 0.2791, Loss: 2.3530\n",
      "Epoch   0 Batch   61/2154 - Train Accuracy: 0.3000, Validation Accuracy: 0.3743, Loss: 2.1389\n",
      "Epoch   0 Batch   62/2154 - Train Accuracy: 0.3195, Validation Accuracy: 0.3800, Loss: 2.2663\n",
      "Epoch   0 Batch   63/2154 - Train Accuracy: 0.2681, Validation Accuracy: 0.3736, Loss: 2.3855\n",
      "Epoch   0 Batch   64/2154 - Train Accuracy: 0.3055, Validation Accuracy: 0.3807, Loss: 2.2940\n",
      "Epoch   0 Batch   65/2154 - Train Accuracy: 0.3132, Validation Accuracy: 0.3814, Loss: 2.0539\n",
      "Epoch   0 Batch   66/2154 - Train Accuracy: 0.3393, Validation Accuracy: 0.3892, Loss: 2.0281\n",
      "Epoch   0 Batch   67/2154 - Train Accuracy: 0.3211, Validation Accuracy: 0.3800, Loss: 2.1168\n",
      "Epoch   0 Batch   68/2154 - Train Accuracy: 0.3467, Validation Accuracy: 0.3778, Loss: 2.0584\n",
      "Epoch   0 Batch   69/2154 - Train Accuracy: 0.3156, Validation Accuracy: 0.3793, Loss: 2.0743\n",
      "Epoch   0 Batch   70/2154 - Train Accuracy: 0.2985, Validation Accuracy: 0.3651, Loss: 2.2381\n",
      "Epoch   0 Batch   71/2154 - Train Accuracy: 0.3109, Validation Accuracy: 0.3757, Loss: 2.1315\n",
      "Epoch   0 Batch   72/2154 - Train Accuracy: 0.2711, Validation Accuracy: 0.3253, Loss: 2.0673\n",
      "Epoch   0 Batch   73/2154 - Train Accuracy: 0.2914, Validation Accuracy: 0.3793, Loss: 2.0293\n",
      "Epoch   0 Batch   74/2154 - Train Accuracy: 0.2867, Validation Accuracy: 0.3018, Loss: 2.0015\n",
      "Epoch   0 Batch   75/2154 - Train Accuracy: 0.1957, Validation Accuracy: 0.2983, Loss: 2.2060\n",
      "Epoch   0 Batch   76/2154 - Train Accuracy: 0.2602, Validation Accuracy: 0.3366, Loss: 1.8927\n",
      "Epoch   0 Batch   77/2154 - Train Accuracy: 0.2796, Validation Accuracy: 0.3814, Loss: 2.2438\n",
      "Epoch   0 Batch   78/2154 - Train Accuracy: 0.2377, Validation Accuracy: 0.3423, Loss: 2.1206\n",
      "Epoch   0 Batch   79/2154 - Train Accuracy: 0.2500, Validation Accuracy: 0.3303, Loss: 1.9765\n",
      "Epoch   0 Batch   80/2154 - Train Accuracy: 0.2836, Validation Accuracy: 0.3303, Loss: 2.0027\n",
      "Epoch   0 Batch   81/2154 - Train Accuracy: 0.2582, Validation Accuracy: 0.3821, Loss: 1.9360\n",
      "Epoch   0 Batch   82/2154 - Train Accuracy: 0.2695, Validation Accuracy: 0.3487, Loss: 2.0015\n",
      "Epoch   0 Batch   83/2154 - Train Accuracy: 0.2558, Validation Accuracy: 0.3587, Loss: 2.1316\n",
      "Epoch   0 Batch   84/2154 - Train Accuracy: 0.3475, Validation Accuracy: 0.3636, Loss: 1.7353\n",
      "Epoch   0 Batch   85/2154 - Train Accuracy: 0.3000, Validation Accuracy: 0.3665, Loss: 1.7706\n",
      "Epoch   0 Batch   86/2154 - Train Accuracy: 0.2582, Validation Accuracy: 0.3516, Loss: 1.9811\n",
      "Epoch   0 Batch   87/2154 - Train Accuracy: 0.2812, Validation Accuracy: 0.3295, Loss: 1.8089\n",
      "Epoch   0 Batch   88/2154 - Train Accuracy: 0.2673, Validation Accuracy: 0.3615, Loss: 1.7188\n"
     ]
    },
    {
     "name": "stdout",
     "output_type": "stream",
     "text": [
      "Epoch   0 Batch   89/2154 - Train Accuracy: 0.2492, Validation Accuracy: 0.3679, Loss: 1.9132\n",
      "Epoch   0 Batch   90/2154 - Train Accuracy: 0.2582, Validation Accuracy: 0.3672, Loss: 1.8949\n",
      "Epoch   0 Batch   91/2154 - Train Accuracy: 0.2875, Validation Accuracy: 0.3700, Loss: 1.7557\n",
      "Epoch   0 Batch   92/2154 - Train Accuracy: 0.2977, Validation Accuracy: 0.3722, Loss: 1.8056\n",
      "Epoch   0 Batch   93/2154 - Train Accuracy: 0.2393, Validation Accuracy: 0.3629, Loss: 1.8274\n",
      "Epoch   0 Batch   94/2154 - Train Accuracy: 0.2714, Validation Accuracy: 0.3615, Loss: 1.8479\n",
      "Epoch   0 Batch   95/2154 - Train Accuracy: 0.2773, Validation Accuracy: 0.2976, Loss: 1.6824\n",
      "Epoch   0 Batch   96/2154 - Train Accuracy: 0.2311, Validation Accuracy: 0.2820, Loss: 1.7883\n",
      "Epoch   0 Batch   97/2154 - Train Accuracy: 0.1957, Validation Accuracy: 0.2820, Loss: 1.7865\n",
      "Epoch   0 Batch   98/2154 - Train Accuracy: 0.3055, Validation Accuracy: 0.3636, Loss: 1.7180\n",
      "Epoch   0 Batch   99/2154 - Train Accuracy: 0.3214, Validation Accuracy: 0.3636, Loss: 1.5735\n",
      "Epoch   0 Batch  100/2154 - Train Accuracy: 0.3058, Validation Accuracy: 0.3601, Loss: 1.7521\n",
      "Epoch   0 Batch  101/2154 - Train Accuracy: 0.2922, Validation Accuracy: 0.3629, Loss: 1.6425\n",
      "Epoch   0 Batch  102/2154 - Train Accuracy: 0.2812, Validation Accuracy: 0.3636, Loss: 1.6472\n",
      "Epoch   0 Batch  103/2154 - Train Accuracy: 0.2742, Validation Accuracy: 0.3587, Loss: 1.5939\n",
      "Epoch   0 Batch  104/2154 - Train Accuracy: 0.2056, Validation Accuracy: 0.2997, Loss: 1.6195\n",
      "Epoch   0 Batch  105/2154 - Train Accuracy: 0.1844, Validation Accuracy: 0.2493, Loss: 1.5377\n",
      "Epoch   0 Batch  106/2154 - Train Accuracy: 0.1423, Validation Accuracy: 0.2308, Loss: 1.7410\n",
      "Epoch   0 Batch  107/2154 - Train Accuracy: 0.2048, Validation Accuracy: 0.3075, Loss: 1.5586\n",
      "Epoch   0 Batch  108/2154 - Train Accuracy: 0.2590, Validation Accuracy: 0.3665, Loss: 1.5924\n",
      "Epoch   0 Batch  109/2154 - Train Accuracy: 0.2750, Validation Accuracy: 0.3665, Loss: 1.6599\n",
      "Epoch   0 Batch  110/2154 - Train Accuracy: 0.2750, Validation Accuracy: 0.3594, Loss: 1.5701\n",
      "Epoch   0 Batch  111/2154 - Train Accuracy: 0.1992, Validation Accuracy: 0.2571, Loss: 1.4764\n",
      "Epoch   0 Batch  112/2154 - Train Accuracy: 0.2211, Validation Accuracy: 0.3061, Loss: 1.4315\n",
      "Epoch   0 Batch  113/2154 - Train Accuracy: 0.2953, Validation Accuracy: 0.3580, Loss: 1.5245\n",
      "Epoch   0 Batch  114/2154 - Train Accuracy: 0.2680, Validation Accuracy: 0.3580, Loss: 1.5127\n",
      "Epoch   0 Batch  115/2154 - Train Accuracy: 0.3580, Validation Accuracy: 0.3622, Loss: 1.3332\n",
      "Epoch   0 Batch  116/2154 - Train Accuracy: 0.2430, Validation Accuracy: 0.3104, Loss: 1.4665\n",
      "Epoch   0 Batch  117/2154 - Train Accuracy: 0.2072, Validation Accuracy: 0.3068, Loss: 1.5585\n",
      "Epoch   0 Batch  118/2154 - Train Accuracy: 0.2352, Validation Accuracy: 0.3068, Loss: 1.5126\n",
      "Epoch   0 Batch  119/2154 - Train Accuracy: 0.1883, Validation Accuracy: 0.3054, Loss: 1.6068\n",
      "Epoch   0 Batch  120/2154 - Train Accuracy: 0.2303, Validation Accuracy: 0.3068, Loss: 1.4324\n",
      "Epoch   0 Batch  121/2154 - Train Accuracy: 0.2902, Validation Accuracy: 0.3054, Loss: 1.3439\n",
      "Epoch   0 Batch  122/2154 - Train Accuracy: 0.2562, Validation Accuracy: 0.3033, Loss: 1.4644\n",
      "Epoch   0 Batch  123/2154 - Train Accuracy: 0.2812, Validation Accuracy: 0.3679, Loss: 1.4203\n",
      "Epoch   0 Batch  124/2154 - Train Accuracy: 0.2750, Validation Accuracy: 0.3700, Loss: 1.4163\n",
      "Epoch   0 Batch  125/2154 - Train Accuracy: 0.2582, Validation Accuracy: 0.3366, Loss: 1.5041\n",
      "Epoch   0 Batch  126/2154 - Train Accuracy: 0.2607, Validation Accuracy: 0.3402, Loss: 1.4486\n",
      "Epoch   0 Batch  127/2154 - Train Accuracy: 0.2902, Validation Accuracy: 0.3388, Loss: 1.3166\n",
      "Epoch   0 Batch  128/2154 - Train Accuracy: 0.1891, Validation Accuracy: 0.3416, Loss: 1.4101\n",
      "Epoch   0 Batch  129/2154 - Train Accuracy: 0.1974, Validation Accuracy: 0.3381, Loss: 1.4164\n",
      "Epoch   0 Batch  130/2154 - Train Accuracy: 0.2195, Validation Accuracy: 0.2422, Loss: 1.3864\n",
      "Epoch   0 Batch  131/2154 - Train Accuracy: 0.1447, Validation Accuracy: 0.2415, Loss: 1.4394\n",
      "Epoch   0 Batch  132/2154 - Train Accuracy: 0.1382, Validation Accuracy: 0.2401, Loss: 1.4172\n",
      "Epoch   0 Batch  133/2154 - Train Accuracy: 0.2258, Validation Accuracy: 0.2386, Loss: 1.2858\n",
      "Epoch   0 Batch  134/2154 - Train Accuracy: 0.2537, Validation Accuracy: 0.2386, Loss: 1.2854\n",
      "Epoch   0 Batch  135/2154 - Train Accuracy: 0.0859, Validation Accuracy: 0.2393, Loss: 1.4720\n",
      "Epoch   0 Batch  136/2154 - Train Accuracy: 0.2359, Validation Accuracy: 0.2393, Loss: 1.2983\n",
      "Epoch   0 Batch  137/2154 - Train Accuracy: 0.2578, Validation Accuracy: 0.3374, Loss: 1.3272\n",
      "Epoch   0 Batch  138/2154 - Train Accuracy: 0.2695, Validation Accuracy: 0.3381, Loss: 1.3105\n",
      "Epoch   0 Batch  139/2154 - Train Accuracy: 0.1900, Validation Accuracy: 0.3388, Loss: 1.4408\n",
      "Epoch   0 Batch  140/2154 - Train Accuracy: 0.2508, Validation Accuracy: 0.3388, Loss: 1.3797\n",
      "Epoch   0 Batch  141/2154 - Train Accuracy: 0.2525, Validation Accuracy: 0.3423, Loss: 1.3280\n",
      "Epoch   0 Batch  142/2154 - Train Accuracy: 0.2146, Validation Accuracy: 0.3409, Loss: 1.3094\n",
      "Epoch   0 Batch  143/2154 - Train Accuracy: 0.2442, Validation Accuracy: 0.3416, Loss: 1.3117\n",
      "Epoch   0 Batch  144/2154 - Train Accuracy: 0.2648, Validation Accuracy: 0.3494, Loss: 1.2324\n",
      "Epoch   0 Batch  145/2154 - Train Accuracy: 0.2594, Validation Accuracy: 0.3480, Loss: 1.3171\n",
      "Epoch   0 Batch  146/2154 - Train Accuracy: 0.2401, Validation Accuracy: 0.3402, Loss: 1.3078\n",
      "Epoch   0 Batch  147/2154 - Train Accuracy: 0.2586, Validation Accuracy: 0.3395, Loss: 1.2329\n",
      "Epoch   0 Batch  148/2154 - Train Accuracy: 0.2789, Validation Accuracy: 0.3381, Loss: 1.2902\n",
      "Epoch   0 Batch  149/2154 - Train Accuracy: 0.2531, Validation Accuracy: 0.3359, Loss: 1.2670\n",
      "Epoch   0 Batch  150/2154 - Train Accuracy: 0.2798, Validation Accuracy: 0.3359, Loss: 1.1894\n",
      "Epoch   0 Batch  151/2154 - Train Accuracy: 0.1439, Validation Accuracy: 0.2408, Loss: 1.2413\n",
      "Epoch   0 Batch  152/2154 - Train Accuracy: 0.1883, Validation Accuracy: 0.2422, Loss: 1.2746\n",
      "Epoch   0 Batch  153/2154 - Train Accuracy: 0.1365, Validation Accuracy: 0.2408, Loss: 1.3005\n",
      "Epoch   0 Batch  154/2154 - Train Accuracy: 0.1773, Validation Accuracy: 0.2408, Loss: 1.1488\n",
      "Epoch   0 Batch  155/2154 - Train Accuracy: 0.1488, Validation Accuracy: 0.2408, Loss: 1.2782\n",
      "Epoch   0 Batch  156/2154 - Train Accuracy: 0.2047, Validation Accuracy: 0.2408, Loss: 1.2625\n",
      "Epoch   0 Batch  157/2154 - Train Accuracy: 0.2113, Validation Accuracy: 0.3388, Loss: 1.3054\n",
      "Epoch   0 Batch  158/2154 - Train Accuracy: 0.2130, Validation Accuracy: 0.3388, Loss: 1.2555\n",
      "Epoch   0 Batch  159/2154 - Train Accuracy: 0.2566, Validation Accuracy: 0.3381, Loss: 1.2802\n",
      "Epoch   0 Batch  160/2154 - Train Accuracy: 0.2500, Validation Accuracy: 0.3381, Loss: 1.2415\n",
      "Epoch   0 Batch  161/2154 - Train Accuracy: 0.2578, Validation Accuracy: 0.3402, Loss: 1.1396\n",
      "Epoch   0 Batch  162/2154 - Train Accuracy: 0.2377, Validation Accuracy: 0.3345, Loss: 1.2965\n",
      "Epoch   0 Batch  163/2154 - Train Accuracy: 0.2719, Validation Accuracy: 0.3438, Loss: 1.1514\n",
      "Epoch   0 Batch  164/2154 - Train Accuracy: 0.2253, Validation Accuracy: 0.3438, Loss: 1.2485\n",
      "Epoch   0 Batch  165/2154 - Train Accuracy: 0.3274, Validation Accuracy: 0.3438, Loss: 1.0981\n",
      "Epoch   0 Batch  166/2154 - Train Accuracy: 0.2836, Validation Accuracy: 0.3438, Loss: 1.1518\n",
      "Epoch   0 Batch  167/2154 - Train Accuracy: 0.2418, Validation Accuracy: 0.3452, Loss: 1.2597\n",
      "Epoch   0 Batch  168/2154 - Train Accuracy: 0.2303, Validation Accuracy: 0.3395, Loss: 1.2658\n",
      "Epoch   0 Batch  169/2154 - Train Accuracy: 0.2418, Validation Accuracy: 0.3381, Loss: 1.2156\n",
      "Epoch   0 Batch  170/2154 - Train Accuracy: 0.2758, Validation Accuracy: 0.3416, Loss: 1.1639\n",
      "Epoch   0 Batch  171/2154 - Train Accuracy: 0.2617, Validation Accuracy: 0.3452, Loss: 1.1381\n",
      "Epoch   0 Batch  172/2154 - Train Accuracy: 0.2270, Validation Accuracy: 0.3452, Loss: 1.1541\n",
      "Epoch   0 Batch  173/2154 - Train Accuracy: 0.2664, Validation Accuracy: 0.3509, Loss: 1.2075\n",
      "Epoch   0 Batch  174/2154 - Train Accuracy: 0.2703, Validation Accuracy: 0.3473, Loss: 1.1926\n",
      "Epoch   0 Batch  175/2154 - Train Accuracy: 0.2648, Validation Accuracy: 0.3473, Loss: 1.1974\n",
      "Epoch   0 Batch  176/2154 - Train Accuracy: 0.2805, Validation Accuracy: 0.3473, Loss: 1.2214\n"
     ]
    },
    {
     "name": "stdout",
     "output_type": "stream",
     "text": [
      "Epoch   0 Batch  177/2154 - Train Accuracy: 0.2523, Validation Accuracy: 0.3473, Loss: 1.1760\n",
      "Epoch   0 Batch  178/2154 - Train Accuracy: 0.2883, Validation Accuracy: 0.3473, Loss: 1.1893\n",
      "Epoch   0 Batch  179/2154 - Train Accuracy: 0.2313, Validation Accuracy: 0.3402, Loss: 1.1653\n",
      "Epoch   0 Batch  180/2154 - Train Accuracy: 0.2969, Validation Accuracy: 0.3388, Loss: 1.1492\n",
      "Epoch   0 Batch  181/2154 - Train Accuracy: 0.2828, Validation Accuracy: 0.3381, Loss: 1.1347\n",
      "Epoch   0 Batch  182/2154 - Train Accuracy: 0.2313, Validation Accuracy: 0.3395, Loss: 1.1766\n",
      "Epoch   0 Batch  183/2154 - Train Accuracy: 0.2537, Validation Accuracy: 0.3395, Loss: 1.0728\n",
      "Epoch   0 Batch  184/2154 - Train Accuracy: 0.2451, Validation Accuracy: 0.3381, Loss: 1.1686\n",
      "Epoch   0 Batch  185/2154 - Train Accuracy: 0.2286, Validation Accuracy: 0.3388, Loss: 1.1941\n",
      "Epoch   0 Batch  186/2154 - Train Accuracy: 0.2731, Validation Accuracy: 0.3388, Loss: 1.1485\n",
      "Epoch   0 Batch  187/2154 - Train Accuracy: 0.2250, Validation Accuracy: 0.3388, Loss: 1.2208\n",
      "Epoch   0 Batch  188/2154 - Train Accuracy: 0.2477, Validation Accuracy: 0.3430, Loss: 1.0860\n",
      "Epoch   0 Batch  189/2154 - Train Accuracy: 0.2820, Validation Accuracy: 0.3473, Loss: 1.0904\n",
      "Epoch   0 Batch  190/2154 - Train Accuracy: 0.2555, Validation Accuracy: 0.3473, Loss: 1.0605\n",
      "Epoch   0 Batch  191/2154 - Train Accuracy: 0.2570, Validation Accuracy: 0.3473, Loss: 1.1948\n",
      "Epoch   0 Batch  192/2154 - Train Accuracy: 0.2827, Validation Accuracy: 0.3473, Loss: 1.1465\n",
      "Epoch   0 Batch  193/2154 - Train Accuracy: 0.2281, Validation Accuracy: 0.3452, Loss: 1.1256\n",
      "Epoch   0 Batch  194/2154 - Train Accuracy: 0.2453, Validation Accuracy: 0.3374, Loss: 1.1273\n",
      "Epoch   0 Batch  195/2154 - Train Accuracy: 0.2023, Validation Accuracy: 0.3374, Loss: 1.1770\n",
      "Epoch   0 Batch  196/2154 - Train Accuracy: 0.2164, Validation Accuracy: 0.3381, Loss: 1.1610\n",
      "Epoch   0 Batch  197/2154 - Train Accuracy: 0.3028, Validation Accuracy: 0.3388, Loss: 1.0319\n",
      "Epoch   0 Batch  198/2154 - Train Accuracy: 0.2297, Validation Accuracy: 0.3423, Loss: 1.1904\n"
     ]
    }
   ],
   "source": [
    "\"\"\"\n",
    "DON'T MODIFY ANYTHING IN THIS CELL\n",
    "\"\"\"\n",
    "def get_accuracy(target, logits):\n",
    "    \"\"\"\n",
    "    Calculate accuracy\n",
    "    \"\"\"\n",
    "    max_seq = max(target.shape[1], logits.shape[1])\n",
    "    if max_seq - target.shape[1]:\n",
    "        target = np.pad(\n",
    "            target,\n",
    "            [(0,0),(0,max_seq - target.shape[1])],\n",
    "            'constant')\n",
    "    if max_seq - logits.shape[1]:\n",
    "        logits = np.pad(\n",
    "            logits,\n",
    "            [(0,0),(0,max_seq - logits.shape[1])],\n",
    "            'constant')\n",
    "\n",
    "    return np.mean(np.equal(target, logits))\n",
    "\n",
    "# Split data to training and validation sets\n",
    "train_source = source_int_text[batch_size:]\n",
    "train_target = target_int_text[batch_size:]\n",
    "valid_source = source_int_text[:batch_size]\n",
    "valid_target = target_int_text[:batch_size]\n",
    "(valid_sources_batch, valid_targets_batch, valid_sources_lengths, valid_targets_lengths ) = next(get_batches(valid_source,\n",
    "                                                                                                             valid_target,\n",
    "                                                                                                             batch_size,\n",
    "                                                                                                             source_vocab_to_int['<PAD>'],\n",
    "                                                                                                             target_vocab_to_int['<PAD>']))                                                                                                  \n",
    "with tf.Session(graph=train_graph) as sess:\n",
    "    sess.run(tf.global_variables_initializer())\n",
    "\n",
    "    for epoch_i in range(epochs):\n",
    "        for batch_i, (source_batch, target_batch, sources_lengths, targets_lengths) in enumerate(\n",
    "                get_batches(train_source, train_target, batch_size,\n",
    "                            source_vocab_to_int['<PAD>'],\n",
    "                            target_vocab_to_int['<PAD>'])):\n",
    "\n",
    "            _, loss = sess.run(\n",
    "                [train_op, cost],\n",
    "                {input_data: source_batch,\n",
    "                 targets: target_batch,\n",
    "                 lr: learning_rate,\n",
    "                 target_sequence_length: targets_lengths,\n",
    "                 source_sequence_length: sources_lengths,\n",
    "                 keep_prob: keep_probability})\n",
    "\n",
    "\n",
    "            if batch_i % display_step == 0 and batch_i > 0:\n",
    "\n",
    "\n",
    "                batch_train_logits = sess.run(\n",
    "                    inference_logits,\n",
    "                    {input_data: source_batch,\n",
    "                     source_sequence_length: sources_lengths,\n",
    "                     target_sequence_length: targets_lengths,\n",
    "                     keep_prob: 1.0})\n",
    "\n",
    "\n",
    "                batch_valid_logits = sess.run(\n",
    "                    inference_logits,\n",
    "                    {input_data: valid_sources_batch,\n",
    "                     source_sequence_length: valid_sources_lengths,\n",
    "                     target_sequence_length: valid_targets_lengths,\n",
    "                     keep_prob: 1.0})\n",
    "\n",
    "                train_acc = get_accuracy(target_batch, batch_train_logits)\n",
    "\n",
    "                valid_acc = get_accuracy(valid_targets_batch, batch_valid_logits)\n",
    "\n",
    "                print('Epoch {:>3} Batch {:>4}/{} - Train Accuracy: {:>6.4f}, Validation Accuracy: {:>6.4f}, Loss: {:>6.4f}'\n",
    "                      .format(epoch_i, batch_i, len(source_int_text) // batch_size, train_acc, valid_acc, loss))\n",
    "\n",
    "    # Save Model\n",
    "    saver = tf.train.Saver()\n",
    "    saver.save(sess, save_path)\n",
    "    print('Model Trained and Saved')"
   ]
  },
  {
   "cell_type": "markdown",
   "metadata": {},
   "source": [
    "### Save Parameters\n",
    "Save the `batch_size` and `save_path` parameters for inference."
   ]
  },
  {
   "cell_type": "code",
   "execution_count": 18,
   "metadata": {
    "collapsed": true
   },
   "outputs": [],
   "source": [
    "\"\"\"\n",
    "DON'T MODIFY ANYTHING IN THIS CELL\n",
    "\"\"\"\n",
    "# Save parameters for checkpoint\n",
    "helper.save_params(save_path)"
   ]
  },
  {
   "cell_type": "markdown",
   "metadata": {},
   "source": [
    "# Checkpoint"
   ]
  },
  {
   "cell_type": "code",
   "execution_count": 19,
   "metadata": {
    "collapsed": true
   },
   "outputs": [],
   "source": [
    "\"\"\"\n",
    "DON'T MODIFY ANYTHING IN THIS CELL\n",
    "\"\"\"\n",
    "import tensorflow as tf\n",
    "import numpy as np\n",
    "import helper\n",
    "import problem_unittests as tests\n",
    "\n",
    "_, (source_vocab_to_int, target_vocab_to_int), (source_int_to_vocab, target_int_to_vocab) = helper.load_preprocess()\n",
    "load_path = helper.load_params()"
   ]
  },
  {
   "cell_type": "markdown",
   "metadata": {},
   "source": [
    "## Sentence to Sequence\n",
    "To feed a sentence into the model for translation, you first need to preprocess it.  Implement the function `sentence_to_seq()` to preprocess new sentences.\n",
    "\n",
    "- Convert the sentence to lowercase\n",
    "- Convert words into ids using `vocab_to_int`\n",
    " - Convert words not in the vocabulary, to the `<UNK>` word id."
   ]
  },
  {
   "cell_type": "code",
   "execution_count": 20,
   "metadata": {},
   "outputs": [
    {
     "name": "stdout",
     "output_type": "stream",
     "text": [
      "Tests Passed\n"
     ]
    }
   ],
   "source": [
    "def sentence_to_seq(sentence, vocab_to_int):\n",
    "    \"\"\"\n",
    "    Convert a sentence to a sequence of ids\n",
    "    :param sentence: String\n",
    "    :param vocab_to_int: Dictionary to go from the words to an id\n",
    "    :return: List of word ids\n",
    "    \"\"\" \n",
    "    seq = []\n",
    "    sentence_array = sentence.split()\n",
    "    for idx,word in enumerate(sentence_array):\n",
    "        word = word.lower()\n",
    "        if word in vocab_to_int:\n",
    "            seq.append(vocab_to_int[word])\n",
    "        else:\n",
    "            seq.append(vocab_to_int['<UNK>']) \n",
    "    return seq\n",
    "\n",
    "\n",
    "\"\"\"\n",
    "DON'T MODIFY ANYTHING IN THIS CELL THAT IS BELOW THIS LINE\n",
    "\"\"\"\n",
    "tests.test_sentence_to_seq(sentence_to_seq)"
   ]
  },
  {
   "cell_type": "markdown",
   "metadata": {},
   "source": [
    "## Translate\n",
    "This will translate `translate_sentence` from English to French."
   ]
  },
  {
   "cell_type": "code",
   "execution_count": null,
   "metadata": {
    "collapsed": true
   },
   "outputs": [],
   "source": [
    "translate_sentence = 'he saw a old yellow truck .'\n",
    "\n",
    "\n",
    "\"\"\"\n",
    "DON'T MODIFY ANYTHING IN THIS CELL\n",
    "\"\"\"\n",
    "translate_sentence = sentence_to_seq(translate_sentence, source_vocab_to_int)\n",
    "\n",
    "loaded_graph = tf.Graph()\n",
    "with tf.Session(graph=loaded_graph) as sess:\n",
    "    # Load saved model\n",
    "    loader = tf.train.import_meta_graph(load_path + '.meta')\n",
    "    loader.restore(sess, load_path)\n",
    "\n",
    "    input_data = loaded_graph.get_tensor_by_name('input:0')\n",
    "    logits = loaded_graph.get_tensor_by_name('predictions:0')\n",
    "    target_sequence_length = loaded_graph.get_tensor_by_name('target_sequence_length:0')\n",
    "    source_sequence_length = loaded_graph.get_tensor_by_name('source_sequence_length:0')\n",
    "    keep_prob = loaded_graph.get_tensor_by_name('keep_prob:0')\n",
    "\n",
    "    translate_logits = sess.run(logits, {input_data: [translate_sentence]*batch_size,\n",
    "                                         target_sequence_length: [len(translate_sentence)*2]*batch_size,\n",
    "                                         source_sequence_length: [len(translate_sentence)]*batch_size,\n",
    "                                         keep_prob: 1.0})[0]\n",
    "\n",
    "print('Input')\n",
    "print('  Word Ids:      {}'.format([i for i in translate_sentence]))\n",
    "print('  English Words: {}'.format([source_int_to_vocab[i] for i in translate_sentence]))\n",
    "\n",
    "print('\\nPrediction')\n",
    "print('  Word Ids:      {}'.format([i for i in translate_logits]))\n",
    "print('  French Words: {}'.format(\" \".join([target_int_to_vocab[i] for i in translate_logits])))\n"
   ]
  },
  {
   "cell_type": "markdown",
   "metadata": {},
   "source": [
    "## Imperfect Translation\n",
    "You might notice that some sentences translate better than others.  Since the dataset you're using only has a vocabulary of 227 English words of the thousands that you use, you're only going to see good results using these words.  For this project, you don't need a perfect translation. However, if you want to create a better translation model, you'll need better data.\n",
    "\n",
    "You can train on the [WMT10 French-English corpus](http://www.statmt.org/wmt10/training-giga-fren.tar).  This dataset has more vocabulary and richer in topics discussed.  However, this will take you days to train, so make sure you've a GPU and the neural network is performing well on dataset we provided.  Just make sure you play with the WMT10 corpus after you've submitted this project.\n",
    "## Submitting This Project\n",
    "When submitting this project, make sure to run all the cells before saving the notebook. Save the notebook file as \"dlnd_language_translation.ipynb\" and save it as a HTML file under \"File\" -> \"Download as\". Include the \"helper.py\" and \"problem_unittests.py\" files in your submission."
   ]
  }
 ],
 "metadata": {
  "anaconda-cloud": {},
  "kernelspec": {
   "display_name": "Python 2",
   "language": "python",
   "name": "python2"
  },
  "language_info": {
   "codemirror_mode": {
    "name": "ipython",
    "version": 2
   },
   "file_extension": ".py",
   "mimetype": "text/x-python",
   "name": "python",
   "nbconvert_exporter": "python",
   "pygments_lexer": "ipython2",
   "version": "2.7.13"
  }
 },
 "nbformat": 4,
 "nbformat_minor": 1
}
